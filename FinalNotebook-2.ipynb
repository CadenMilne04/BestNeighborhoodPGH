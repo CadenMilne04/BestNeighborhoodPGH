{
 "cells": [
  {
   "cell_type": "markdown",
   "metadata": {},
   "source": [
    "# Introduction:\n",
    "In this project, we attempt to find the Pittsburgh neighborhood that would be **the best** place to commit crimes. To do this, we take a look at several metrics such as number of arrests, population, and number of trees. Each metric aids one's ability to commit crimes safely and effectively. \n",
    "\n",
    "![alt-text](https://media.giphy.com/media/NFzNOIBiFYlZS/giphy.gif)\n"
   ]
  },
  {
   "cell_type": "markdown",
   "metadata": {},
   "source": [
    "# The Metrics:\n",
    "## Explanations:\n",
    "Arrests by neighborhood is used to find the neighborhoods that have the highest and lowest number of arrests. Population can be analyzed to find out if there are going to be enough people to commit crimes against, if there will be too many witnesses, and can be used to find the ratio of arrests per capita. Trees by neighborhood allows us to pick a neighborhood with the most suitable hideout locations in case we are being chased by police, we can hide amongst the trees.\n",
    "## Datasets:\n",
    "* Dataset \"Arrests by Neighborhood\" - https://data.wprdc.org/datastore/dump/e03a89dd-134a-4ee8-a2bd-62c40aeebc6f\n",
    "* Dataset \"Population by Neighborhood\" - https://data.wprdc.org/dataset/pgh/resource/9890875b-c1d1-4e64-8fc9-a4a8dc433745\n",
    "* Dataset \"Trees by Neighborhood\" - https://data.wprdc.org/dataset/city-trees/resource/1515a93c-73e3-4425-9b35-1cd11b2196da\n",
    "\n"
   ]
  },
  {
   "cell_type": "markdown",
   "metadata": {},
   "source": [
    "# The Best Neighborhood:"
   ]
  },
  {
   "cell_type": "code",
   "execution_count": null,
   "metadata": {},
   "outputs": [],
   "source": []
  }
 ],
 "metadata": {
  "kernelspec": {
   "display_name": "Python 3",
   "language": "python",
   "name": "python3"
  },
  "language_info": {
   "codemirror_mode": {
    "name": "ipython",
    "version": 3
   },
   "file_extension": ".py",
   "mimetype": "text/x-python",
   "name": "python",
   "nbconvert_exporter": "python",
   "pygments_lexer": "ipython3",
   "version": "3.8.3"
  }
 },
 "nbformat": 4,
 "nbformat_minor": 4
}
