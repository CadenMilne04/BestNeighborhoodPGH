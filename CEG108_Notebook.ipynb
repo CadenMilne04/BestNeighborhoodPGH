{
 "cells": [
  {
   "cell_type": "markdown",
   "metadata": {},
   "source": [
    "# Introduction:\n",
    "\n",
    "We will analyze the population and house vacancy of each neighborhood to determine the best neighborhood to commit crime in.\n",
    "\n",
    "Using the arrest data analysis, we will be able to find the neighborhood with the lowest arrests/person.\n",
    "\n",
    "Dataset: https://data.wprdc.org/dataset/pgh/resource/9890875b-c1d1-4e64-8fc9-a4a8dc433745"
   ]
  },
  {
   "cell_type": "markdown",
   "metadata": {},
   "source": [
    "## Importing Pandas"
   ]
  },
  {
   "cell_type": "code",
   "execution_count": 1,
   "metadata": {},
   "outputs": [],
   "source": [
    "import pandas as pd\n",
    "import numpy as np"
   ]
  },
  {
   "cell_type": "markdown",
   "metadata": {},
   "source": [
    "## Importing the dataset"
   ]
  },
  {
   "cell_type": "code",
   "execution_count": 2,
   "metadata": {},
   "outputs": [],
   "source": [
    "df_total = pd.read_csv(\"pop.csv\")"
   ]
  },
  {
   "cell_type": "markdown",
   "metadata": {},
   "source": [
    "## Separating the data into population and % vacancy\n",
    "\n",
    "We can find each neighborhood in the 'Neighborhood' column of the original data frame. We can then also find the values for population and % housing vacancy associated with each neighborhood."
   ]
  },
  {
   "cell_type": "code",
   "execution_count": 3,
   "metadata": {},
   "outputs": [
    {
     "data": {
      "text/html": [
       "<div>\n",
       "<style scoped>\n",
       "    .dataframe tbody tr th:only-of-type {\n",
       "        vertical-align: middle;\n",
       "    }\n",
       "\n",
       "    .dataframe tbody tr th {\n",
       "        vertical-align: top;\n",
       "    }\n",
       "\n",
       "    .dataframe thead th {\n",
       "        text-align: right;\n",
       "    }\n",
       "</style>\n",
       "<table border=\"1\" class=\"dataframe\">\n",
       "  <thead>\n",
       "    <tr style=\"text-align: right;\">\n",
       "      <th></th>\n",
       "      <th>Neighborhood</th>\n",
       "      <th>Population (2010)</th>\n",
       "    </tr>\n",
       "  </thead>\n",
       "  <tbody>\n",
       "    <tr>\n",
       "      <th>0</th>\n",
       "      <td>Allegheny Center</td>\n",
       "      <td>933</td>\n",
       "    </tr>\n",
       "    <tr>\n",
       "      <th>1</th>\n",
       "      <td>Allegheny West</td>\n",
       "      <td>462</td>\n",
       "    </tr>\n",
       "    <tr>\n",
       "      <th>2</th>\n",
       "      <td>Allentown</td>\n",
       "      <td>2,500</td>\n",
       "    </tr>\n",
       "    <tr>\n",
       "      <th>3</th>\n",
       "      <td>Arlington</td>\n",
       "      <td>1,869</td>\n",
       "    </tr>\n",
       "    <tr>\n",
       "      <th>4</th>\n",
       "      <td>Arlington Heights</td>\n",
       "      <td>244</td>\n",
       "    </tr>\n",
       "    <tr>\n",
       "      <th>5</th>\n",
       "      <td>Banksville</td>\n",
       "      <td>4,144</td>\n",
       "    </tr>\n",
       "    <tr>\n",
       "      <th>6</th>\n",
       "      <td>Bedford Dwellings</td>\n",
       "      <td>1,202</td>\n",
       "    </tr>\n",
       "    <tr>\n",
       "      <th>7</th>\n",
       "      <td>Beechview</td>\n",
       "      <td>7,974</td>\n",
       "    </tr>\n",
       "    <tr>\n",
       "      <th>8</th>\n",
       "      <td>Beltzhoover</td>\n",
       "      <td>1,925</td>\n",
       "    </tr>\n",
       "    <tr>\n",
       "      <th>9</th>\n",
       "      <td>Bloomfield</td>\n",
       "      <td>8,442</td>\n",
       "    </tr>\n",
       "    <tr>\n",
       "      <th>10</th>\n",
       "      <td>Bluff</td>\n",
       "      <td>6,600</td>\n",
       "    </tr>\n",
       "    <tr>\n",
       "      <th>11</th>\n",
       "      <td>Bon Air</td>\n",
       "      <td>808</td>\n",
       "    </tr>\n",
       "    <tr>\n",
       "      <th>12</th>\n",
       "      <td>Brighton Heights</td>\n",
       "      <td>7,247</td>\n",
       "    </tr>\n",
       "    <tr>\n",
       "      <th>13</th>\n",
       "      <td>Brookline</td>\n",
       "      <td>13,214</td>\n",
       "    </tr>\n",
       "    <tr>\n",
       "      <th>14</th>\n",
       "      <td>California-Kirkbride</td>\n",
       "      <td>761</td>\n",
       "    </tr>\n",
       "    <tr>\n",
       "      <th>15</th>\n",
       "      <td>Carrick</td>\n",
       "      <td>10,113</td>\n",
       "    </tr>\n",
       "    <tr>\n",
       "      <th>16</th>\n",
       "      <td>Central Business District</td>\n",
       "      <td>3,629</td>\n",
       "    </tr>\n",
       "    <tr>\n",
       "      <th>17</th>\n",
       "      <td>Central Lawrenceville</td>\n",
       "      <td>4,482</td>\n",
       "    </tr>\n",
       "    <tr>\n",
       "      <th>18</th>\n",
       "      <td>Central Northside</td>\n",
       "      <td>2,923</td>\n",
       "    </tr>\n",
       "    <tr>\n",
       "      <th>19</th>\n",
       "      <td>Central Oakland</td>\n",
       "      <td>6,086</td>\n",
       "    </tr>\n",
       "    <tr>\n",
       "      <th>20</th>\n",
       "      <td>Chartiers City</td>\n",
       "      <td>477</td>\n",
       "    </tr>\n",
       "    <tr>\n",
       "      <th>21</th>\n",
       "      <td>Chateau</td>\n",
       "      <td>11</td>\n",
       "    </tr>\n",
       "    <tr>\n",
       "      <th>22</th>\n",
       "      <td>Crafton Heights</td>\n",
       "      <td>3,814</td>\n",
       "    </tr>\n",
       "    <tr>\n",
       "      <th>23</th>\n",
       "      <td>Crawford-Roberts</td>\n",
       "      <td>2,256</td>\n",
       "    </tr>\n",
       "    <tr>\n",
       "      <th>24</th>\n",
       "      <td>Duquesne Heights</td>\n",
       "      <td>2,425</td>\n",
       "    </tr>\n",
       "    <tr>\n",
       "      <th>25</th>\n",
       "      <td>East Allegheny</td>\n",
       "      <td>2,136</td>\n",
       "    </tr>\n",
       "    <tr>\n",
       "      <th>26</th>\n",
       "      <td>East Carnegie</td>\n",
       "      <td>570</td>\n",
       "    </tr>\n",
       "    <tr>\n",
       "      <th>27</th>\n",
       "      <td>East Hills</td>\n",
       "      <td>3,169</td>\n",
       "    </tr>\n",
       "    <tr>\n",
       "      <th>28</th>\n",
       "      <td>East Liberty</td>\n",
       "      <td>5,869</td>\n",
       "    </tr>\n",
       "    <tr>\n",
       "      <th>29</th>\n",
       "      <td>Elliott</td>\n",
       "      <td>2,381</td>\n",
       "    </tr>\n",
       "  </tbody>\n",
       "</table>\n",
       "</div>"
      ],
      "text/plain": [
       "                 Neighborhood Population (2010)\n",
       "0            Allegheny Center               933\n",
       "1              Allegheny West               462\n",
       "2                   Allentown             2,500\n",
       "3                   Arlington             1,869\n",
       "4           Arlington Heights               244\n",
       "5                  Banksville             4,144\n",
       "6           Bedford Dwellings             1,202\n",
       "7                   Beechview             7,974\n",
       "8                 Beltzhoover             1,925\n",
       "9                  Bloomfield             8,442\n",
       "10                      Bluff             6,600\n",
       "11                    Bon Air               808\n",
       "12           Brighton Heights             7,247\n",
       "13                  Brookline            13,214\n",
       "14       California-Kirkbride               761\n",
       "15                    Carrick            10,113\n",
       "16  Central Business District             3,629\n",
       "17      Central Lawrenceville             4,482\n",
       "18          Central Northside             2,923\n",
       "19            Central Oakland             6,086\n",
       "20             Chartiers City               477\n",
       "21                    Chateau                11\n",
       "22            Crafton Heights             3,814\n",
       "23           Crawford-Roberts             2,256\n",
       "24           Duquesne Heights             2,425\n",
       "25             East Allegheny             2,136\n",
       "26              East Carnegie               570\n",
       "27                 East Hills             3,169\n",
       "28               East Liberty             5,869\n",
       "29                    Elliott             2,381"
      ]
     },
     "execution_count": 3,
     "metadata": {},
     "output_type": "execute_result"
    }
   ],
   "source": [
    "df_pop = df_total[['Neighborhood', 'Population (2010)']].copy()\n",
    "df_percent_vacant = df_total[['Neighborhood','% Vacant Units (2010)']].copy()\n",
    "df_pop.head(30)"
   ]
  },
  {
   "cell_type": "markdown",
   "metadata": {},
   "source": [
    "## Importing Caden's arrest data\n",
    "Just copy/paste of all of Caden's code here. In the complete notebook, this would have already been here. This is needed because of the combination of two datasets to create one metric."
   ]
  },
  {
   "cell_type": "code",
   "execution_count": 4,
   "metadata": {},
   "outputs": [
    {
     "data": {
      "text/plain": [
       "INCIDENTNEIGHBORHOOD\n",
       "Central Business District    3532\n",
       "South Side Flats             3012\n",
       "Carrick                      2082\n",
       "East Allegheny               1889\n",
       "Homewood South               1856\n",
       "                             ... \n",
       "Regent Square                  32\n",
       "Central Northside              23\n",
       "Mt. Oliver Boro                18\n",
       "Troy Hill-Herrs Island          6\n",
       "Mt. Oliver Neighborhood         2\n",
       "Name: AGE, Length: 98, dtype: int64"
      ]
     },
     "execution_count": 4,
     "metadata": {},
     "output_type": "execute_result"
    }
   ],
   "source": [
    "%matplotlib inline\n",
    "import matplotlib.pyplot as plt\n",
    "import geopandas\n",
    "arrestsData = pd.read_csv(\"https://data.wprdc.org/datastore/dump/e03a89dd-134a-4ee8-a2bd-62c40aeebc6f\")\n",
    "incidents_per_neighborhood = arrestsData.groupby('INCIDENTNEIGHBORHOOD')['AGE'].count()\n",
    "incidents_per_neighborhood.sort_values(ascending = False)"
   ]
  },
  {
   "cell_type": "markdown",
   "metadata": {},
   "source": [
    "### Finding how things are indexed within this data\n",
    "To inform us on how we will access the data later, we test out here how to find a neighborhood's arrest value. We find that we can index via the neighborhood name."
   ]
  },
  {
   "cell_type": "code",
   "execution_count": 5,
   "metadata": {},
   "outputs": [
    {
     "name": "stdout",
     "output_type": "stream",
     "text": [
      "INCIDENTNEIGHBORHOOD\n",
      "Allegheny Center       1117\n",
      "Allegheny West          114\n",
      "Allentown               849\n",
      "Arlington               262\n",
      "Arlington Heights       130\n",
      "                       ... \n",
      "Upper Lawrenceville     169\n",
      "West End                250\n",
      "West Oakland            273\n",
      "Westwood                201\n",
      "Windgap                 103\n",
      "Name: AGE, Length: 98, dtype: int64\n",
      "392\n"
     ]
    }
   ],
   "source": [
    "print(incidents_per_neighborhood)\n",
    "x = incidents_per_neighborhood['Chateau']\n",
    "print(x)"
   ]
  },
  {
   "cell_type": "markdown",
   "metadata": {},
   "source": [
    "## Finding arrests/person for each neighborhood\n",
    "Using the separated data from the incidents_per_neighborhood dataframe, we can find the amount of arrests and compare that to the total population.\n",
    "\n",
    "For the purposes of future analysis (for when we combine every metric and do our overall analysis), we will subtract all of these values from 5."
   ]
  },
  {
   "cell_type": "markdown",
   "metadata": {},
   "source": [
    "### Finding neighborhood inconsistencies\n",
    "First, we need to find if there are any inconsistencies in the neighborhoods across each dataset. This later lets us prune neighborhoods that aren't neighborhoods, and include any name variations."
   ]
  },
  {
   "cell_type": "code",
   "execution_count": 6,
   "metadata": {},
   "outputs": [
    {
     "name": "stdout",
     "output_type": "stream",
     "text": [
      "['Mt. Oliver Neighborhood', 'Central North Side', 'Troy Hill-Herrs Island', 'Mt. Oliver Boro', 'Mt. Oliver', 'Outside State', 'Mount Oliver', 'Outside County', 'Golden Triangle/Civic Arena', 'Outside City']\n"
     ]
    }
   ],
   "source": [
    "nh1 = []\n",
    "nh2 = incidents_per_neighborhood.index.values\n",
    "for i in range(len(df_pop)):\n",
    "    nh_name = df_pop['Neighborhood'][i]\n",
    "    nh1.append(nh_name)\n",
    "    \n",
    "print(list(set(nh1).symmetric_difference(set(nh2))))"
   ]
  },
  {
   "cell_type": "markdown",
   "metadata": {},
   "source": [
    "### Compiling data per neighborhood into a dictionary\n",
    "Now that we know what neighborhood inconsistencies we have to deal with, we can begin to compile all of the data into a dictionary, with neighborhood as the key and a list of their pop/arrests as the value."
   ]
  },
  {
   "cell_type": "code",
   "execution_count": 7,
   "metadata": {},
   "outputs": [
    {
     "name": "stdout",
     "output_type": "stream",
     "text": [
      "{'Allegheny Center': [933, 1117], 'Allegheny West': [462, 114], 'Allentown': [2500, 849], 'Arlington': [1869, 262], 'Arlington Heights': [244, 130], 'Banksville': [4144, 255], 'Bedford Dwellings': [1202, 580], 'Beechview': [7974, 1068], 'Beltzhoover': [1925, 457], 'Bloomfield': [8442, 875], 'Bluff': [6600, 1305], 'Bon Air': [808, 229], 'Brighton Heights': [7247, 975], 'Brookline': [13214, 1187], 'California-Kirkbride': [761, 255], 'Carrick': [10113, 2082], 'Central Business District': [3629, 3532], 'Central Lawrenceville': [4482, 397], 'Central Northside': [2923, 756], 'Central Oakland': [6086, 466], 'Chartiers City': [477, 38], 'Chateau': [11, 392], 'Crafton Heights': [3814, 510], 'Crawford-Roberts': [2256, 726], 'Duquesne Heights': [2425, 177], 'East Allegheny': [2136, 1889], 'East Carnegie': [570, 46], 'East Hills': [3169, 1022], 'East Liberty': [5869, 1633], 'Elliott': [2381, 586], 'Esplen': [301, 186], 'Fairywood': [1002, 108], 'Fineview': [1285, 749], 'Friendship': [1785, 150], 'Garfield': [3675, 626], 'Glen Hazel': [716, 143], 'Greenfield': [7294, 471], 'Hays': [362, 98], 'Hazelwood': [4317, 1222], 'Highland Park': [6395, 499], 'Homewood North': [3280, 1734], 'Homewood South': [2344, 1856], 'Homewood West': [818, 694], 'Knoxville': [3747, 1174], 'Larimer': [1728, 765], 'Lincoln Place': [3227, 190], 'Lincoln-Lemington-Belmar': [4883, 1147], 'Lower Lawrenceville': [2341, 230], 'Manchester': [2130, 437], 'Marshall-Shadeland': [6043, 1325], 'Middle Hill': [1707, 836], 'Morningside': [3346, 173], 'Mount Washington': [8799, 1278], 'Mt. Oliver': [509, 1278], 'New Homestead': [990, 38], 'North Oakland': [10551, 386], 'North Shore': [303, 717], 'Northview Heights': [1214, 623], 'Oakwood': [1027, 78], 'Overbrook': [3644, 279], 'Perry North': [4050, 542], 'Perry South': [4145, 951], 'Point Breeze': [5315, 278], 'Point Breeze North': [2054, 245], 'Polish Hill': [1274, 143], 'Regent Square': [928, 32], 'Ridgemont': [483, 32], 'Shadyside': [13915, 846], 'Sheraden': [5299, 1127], 'South Oakland': [2969, 310], 'South Shore': [19, 266], 'South Side Flats': [6597, 3012], 'South Side Slopes': [4423, 712], 'Spring Garden': [884, 200], 'Spring Hill-City View': [2648, 628], 'Squirrel Hill North': [11363, 251], 'Squirrel Hill South': [15110, 719], 'St. Clair': [209, 45], 'Stanton Heights': [4601, 198], 'Strip District': [616, 439], 'Summer Hill': [1051, 63], 'Swisshelm Park': [1361, 38], 'Terrace Village': [3228, 255], 'Troy Hill': [2714, 255], 'Upper Hill': [2057, 321], 'Upper Lawrenceville': [2669, 169], 'West End': [254, 250], 'West Oakland': [2604, 273], 'Westwood': [3066, 201], 'Windgap': [1369, 103]}\n"
     ]
    }
   ],
   "source": [
    "nh1 = []\n",
    "nh2 = incidents_per_neighborhood.index.values\n",
    "\n",
    "vals_ratio = {}\n",
    "for i in range(len(df_pop)):\n",
    "    nh_name = df_pop['Neighborhood'][i]\n",
    "    nh1.append(nh_name)\n",
    "    pop_val = int(df_pop['Population (2010)'][i].replace(',',''))\n",
    "    if nh_name == 'Central Northside':\n",
    "        arrest_val = incidents_per_neighborhood['Central North Side']\n",
    "    elif nh_name == 'Mt. Oliver':\n",
    "        arrestval = incidents_per_neighborhood['Mt. Oliver Boro']\n",
    "        arrestval += incidents_per_neighborhood['Mount Oliver']\n",
    "        arrestval += incidents_per_neighborhood['Mt. Oliver Neighborhood']\n",
    "    elif nh_name == 'Troy Hill':\n",
    "        arrestval = incidents_per_neighborhood['Troy Hill-Herrs Island']\n",
    "    elif nh_name in ['Outside County', 'Outside City', 'Outside State', 'Golden Triangle/Civic Arena']:\n",
    "        pass\n",
    "    else:\n",
    "        arrest_val = incidents_per_neighborhood[nh_name]\n",
    "    vals_ratio[nh_name] = [pop_val,arrest_val]\n",
    "print(vals_ratio)"
   ]
  },
  {
   "cell_type": "markdown",
   "metadata": {},
   "source": [
    "## Computing the arrests/pop ratio\n",
    "Next, we replace the list value for each neighborhood with the value of their arrests/pop ratio. Although the way this is done is fairly crude, it still works!"
   ]
  },
  {
   "cell_type": "code",
   "execution_count": 8,
   "metadata": {},
   "outputs": [
    {
     "name": "stdout",
     "output_type": "stream",
     "text": [
      "{'Allegheny Center': 1.197213290460879, 'Allegheny West': 0.24675324675324675, 'Allentown': 0.3396, 'Arlington': 0.14018191546281433, 'Arlington Heights': 0.5327868852459017, 'Banksville': 0.06153474903474904, 'Bedford Dwellings': 0.4825291181364393, 'Beechview': 0.13393528969149737, 'Beltzhoover': 0.2374025974025974, 'Bloomfield': 0.10364842454394693, 'Bluff': 0.19772727272727272, 'Bon Air': 0.2834158415841584, 'Brighton Heights': 0.13453842969504623, 'Brookline': 0.08982896927501136, 'California-Kirkbride': 0.33508541392904073, 'Carrick': 0.20587362800355977, 'Central Business District': 0.9732708735188758, 'Central Lawrenceville': 0.08857652833556448, 'Central Northside': 0.2586383852206637, 'Central Oakland': 0.07656917515609596, 'Chartiers City': 0.07966457023060797, 'Chateau': 35.63636363636363, 'Crafton Heights': 0.13371788148925012, 'Crawford-Roberts': 0.32180851063829785, 'Duquesne Heights': 0.07298969072164949, 'East Allegheny': 0.8843632958801498, 'East Carnegie': 0.08070175438596491, 'East Hills': 0.32249921110760493, 'East Liberty': 0.2782416084511842, 'Elliott': 0.24611507769844604, 'Esplen': 0.6179401993355482, 'Fairywood': 0.10778443113772455, 'Fineview': 0.5828793774319067, 'Friendship': 0.08403361344537816, 'Garfield': 0.17034013605442178, 'Glen Hazel': 0.19972067039106145, 'Greenfield': 0.06457362215519605, 'Hays': 0.27071823204419887, 'Hazelwood': 0.2830669446374797, 'Highland Park': 0.07802971071149335, 'Homewood North': 0.5286585365853659, 'Homewood South': 0.7918088737201365, 'Homewood West': 0.8484107579462102, 'Knoxville': 0.31331732052308514, 'Larimer': 0.4427083333333333, 'Lincoln Place': 0.05887821506042764, 'Lincoln-Lemington-Belmar': 0.2348965799713291, 'Lower Lawrenceville': 0.09824861170439983, 'Manchester': 0.2051643192488263, 'Marshall-Shadeland': 0.21926195598212808, 'Middle Hill': 0.4897480960749854, 'Morningside': 0.05170352659892409, 'Mount Washington': 0.1452437777020116, 'Mt. Oliver': 2.5108055009823183, 'New Homestead': 0.03838383838383838, 'North Oakland': 0.03658421002748555, 'North Shore': 2.366336633663366, 'Northview Heights': 0.5131795716639209, 'Oakwood': 0.0759493670886076, 'Overbrook': 0.0765642151481888, 'Perry North': 0.13382716049382717, 'Perry South': 0.22943305186972257, 'Point Breeze': 0.052304797742238944, 'Point Breeze North': 0.1192794547224927, 'Polish Hill': 0.11224489795918367, 'Regent Square': 0.034482758620689655, 'Ridgemont': 0.06625258799171843, 'Shadyside': 0.060797700323392025, 'Sheraden': 0.21268163804491413, 'South Oakland': 0.10441226002020883, 'South Shore': 14.0, 'South Side Flats': 0.45657116871305137, 'South Side Slopes': 0.16097671263848068, 'Spring Garden': 0.22624434389140272, 'Spring Hill-City View': 0.23716012084592145, 'Squirrel Hill North': 0.022089236997271847, 'Squirrel Hill South': 0.04758438120450033, 'St. Clair': 0.215311004784689, 'Stanton Heights': 0.043034123016735495, 'Strip District': 0.7126623376623377, 'Summer Hill': 0.05994291151284491, 'Swisshelm Park': 0.027920646583394562, 'Terrace Village': 0.07899628252788105, 'Troy Hill': 0.09395725865880619, 'Upper Hill': 0.15605250364608653, 'Upper Lawrenceville': 0.06331959535406519, 'West End': 0.984251968503937, 'West Oakland': 0.10483870967741936, 'Westwood': 0.06555772994129158, 'Windgap': 0.07523739956172389}\n"
     ]
    }
   ],
   "source": [
    "for i in vals_ratio:\n",
    "    vals_ratio[i] = vals_ratio[i][1]/vals_ratio[i][0]\n",
    "print(vals_ratio)"
   ]
  },
  {
   "cell_type": "markdown",
   "metadata": {},
   "source": [
    "### Insights\n",
    "We can see some *very* interesting things here. The major thing that pops out is the neighborhood Chateau with a ratio of ~35.6arrests/person. That is crazy, and the math checks out! In 2010, Chateau had a population of 11 according to the dataset, while it had 392 arrests in that area. Maybe people consistently fled to that area -- who knows. All we know is that police are very active there -- if we want to commit crime and *not* get caught, Chateau is not the place to be."
   ]
  },
  {
   "cell_type": "markdown",
   "metadata": {},
   "source": [
    "### Final computation for ratio\n",
    "The final computation we do is creating a new dictionary that contains all neighborhoods and (their ratio times 10) subtracted from 100. This helps us greatly with our final analysis, so it's easier to do now rather than later.\n",
    "\n",
    "We want to find the place with the lowest ratio, and since our analysis relies on computing some geometry, it helps us to have that low ratio value be associated with a high number. Multiplying by 10 helps us see differences between neighborhoods much easier, since a lot of these ratios are very small decimals."
   ]
  },
  {
   "cell_type": "code",
   "execution_count": 9,
   "metadata": {},
   "outputs": [
    {
     "name": "stdout",
     "output_type": "stream",
     "text": [
      "{'Allegheny Center': 98.80278670953912, 'Allegheny West': 99.75324675324676, 'Allentown': 99.6604, 'Arlington': 99.85981808453718, 'Arlington Heights': 99.4672131147541, 'Banksville': 99.93846525096525, 'Bedford Dwellings': 99.51747088186356, 'Beechview': 99.8660647103085, 'Beltzhoover': 99.76259740259741, 'Bloomfield': 99.89635157545605, 'Bluff': 99.80227272727272, 'Bon Air': 99.71658415841584, 'Brighton Heights': 99.86546157030496, 'Brookline': 99.91017103072498, 'California-Kirkbride': 99.66491458607096, 'Carrick': 99.79412637199644, 'Central Business District': 99.02672912648113, 'Central Lawrenceville': 99.91142347166443, 'Central Northside': 99.74136161477934, 'Central Oakland': 99.9234308248439, 'Chartiers City': 99.9203354297694, 'Chateau': 64.36363636363637, 'Crafton Heights': 99.86628211851075, 'Crawford-Roberts': 99.67819148936171, 'Duquesne Heights': 99.92701030927834, 'East Allegheny': 99.11563670411985, 'East Carnegie': 99.91929824561403, 'East Hills': 99.67750078889239, 'East Liberty': 99.72175839154882, 'Elliott': 99.75388492230155, 'Esplen': 99.38205980066445, 'Fairywood': 99.89221556886227, 'Fineview': 99.41712062256809, 'Friendship': 99.91596638655462, 'Garfield': 99.82965986394558, 'Glen Hazel': 99.80027932960894, 'Greenfield': 99.9354263778448, 'Hays': 99.7292817679558, 'Hazelwood': 99.71693305536252, 'Highland Park': 99.92197028928851, 'Homewood North': 99.47134146341463, 'Homewood South': 99.20819112627986, 'Homewood West': 99.15158924205379, 'Knoxville': 99.68668267947692, 'Larimer': 99.55729166666667, 'Lincoln Place': 99.94112178493957, 'Lincoln-Lemington-Belmar': 99.76510342002867, 'Lower Lawrenceville': 99.9017513882956, 'Manchester': 99.79483568075118, 'Marshall-Shadeland': 99.78073804401787, 'Middle Hill': 99.51025190392501, 'Morningside': 99.94829647340107, 'Mount Washington': 99.854756222298, 'Mt. Oliver': 97.48919449901769, 'New Homestead': 99.96161616161616, 'North Oakland': 99.96341578997252, 'North Shore': 97.63366336633663, 'Northview Heights': 99.48682042833607, 'Oakwood': 99.92405063291139, 'Overbrook': 99.9234357848518, 'Perry North': 99.86617283950618, 'Perry South': 99.77056694813028, 'Point Breeze': 99.94769520225776, 'Point Breeze North': 99.88072054527751, 'Polish Hill': 99.88775510204081, 'Regent Square': 99.96551724137932, 'Ridgemont': 99.93374741200829, 'Shadyside': 99.93920229967661, 'Sheraden': 99.78731836195509, 'South Oakland': 99.89558773997979, 'South Shore': 86.0, 'South Side Flats': 99.54342883128695, 'South Side Slopes': 99.83902328736151, 'Spring Garden': 99.77375565610859, 'Spring Hill-City View': 99.76283987915407, 'Squirrel Hill North': 99.97791076300273, 'Squirrel Hill South': 99.9524156187955, 'St. Clair': 99.7846889952153, 'Stanton Heights': 99.95696587698326, 'Strip District': 99.28733766233766, 'Summer Hill': 99.94005708848715, 'Swisshelm Park': 99.9720793534166, 'Terrace Village': 99.92100371747212, 'Troy Hill': 99.9060427413412, 'Upper Hill': 99.84394749635392, 'Upper Lawrenceville': 99.93668040464594, 'West End': 99.01574803149606, 'West Oakland': 99.89516129032258, 'Westwood': 99.93444227005871, 'Windgap': 99.92476260043827}\n"
     ]
    }
   ],
   "source": [
    "vals_ratio_adj = {}\n",
    "for i in vals_ratio:\n",
    "    vals_ratio_adj[i] = 100-(vals_ratio[i])\n",
    "print(vals_ratio_adj)"
   ]
  },
  {
   "cell_type": "markdown",
   "metadata": {},
   "source": [
    "## Visualizing\n",
    "We just plot all of this data across a number line to find the best neighborhood within this metric.\n"
   ]
  },
  {
   "cell_type": "code",
   "execution_count": 23,
   "metadata": {},
   "outputs": [
    {
     "data": {
      "image/png": "[encoded data removed]",
      "text/plain": [
       "<Figure size 432x288 with 1 Axes>"
      ]
     },
     "metadata": {
      "needs_background": "light"
     },
     "output_type": "display_data"
    }
   ],
   "source": [
    "nums = list(range(len(ratios_adj)))\n",
    "ratios_adj = vals_ratio_adj.values()\n",
    "plt.scatter(nums, ratios_adj)\n",
    "plt.ylabel(\"Adjusted Ratio\")  \n",
    "plt.title(\"Adjusted Arrest/Population Ratio for Neighborhoods in Pittsburgh\")\n",
    "plt.show()"
   ]
  },
  {
   "cell_type": "markdown",
   "metadata": {},
   "source": [
    "This visualization is just meant to show that there is a clear outlier for worst neighborhood and a best neighborhood in accordance to this metric. We can later find that those are:"
   ]
  },
  {
   "cell_type": "code",
   "execution_count": 26,
   "metadata": {},
   "outputs": [
    {
     "name": "stdout",
     "output_type": "stream",
     "text": [
      "Squirrel Hill North\n",
      "Chateau\n"
     ]
    }
   ],
   "source": [
    "max_value = max(vals_ratio_adj, key=vals_ratio_adj.get)\n",
    "print(max_value)\n",
    "\n",
    "min_value = min(vals_ratio_adj, key=vals_ratio_adj.get)\n",
    "print(min_value)"
   ]
  },
  {
   "cell_type": "markdown",
   "metadata": {},
   "source": [
    "Best: Squirrel Hill North, with an adjusted ratio of 99.978\n",
    "Worst: Chateau (as expected), with an adjusted ratio of 64.364"
   ]
  },
  {
   "cell_type": "code",
   "execution_count": null,
   "metadata": {},
   "outputs": [],
   "source": []
  }
 ],
 "metadata": {
  "kernelspec": {
   "display_name": "Python 3",
   "language": "python",
   "name": "python3"
  },
  "language_info": {
   "codemirror_mode": {
    "name": "ipython",
    "version": 3
   },
   "file_extension": ".py",
   "mimetype": "text/x-python",
   "name": "python",
   "nbconvert_exporter": "python",
   "pygments_lexer": "ipython3",
   "version": "3.8.3"
  }
 },
 "nbformat": 4,
 "nbformat_minor": 4
}
